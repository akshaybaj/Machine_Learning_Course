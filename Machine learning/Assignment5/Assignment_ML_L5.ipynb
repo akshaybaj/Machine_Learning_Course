{
 "cells": [
  {
   "cell_type": "markdown",
   "metadata": {
    "colab_type": "text",
    "id": "arLDVfoh4rOg"
   },
   "source": [
    "#**SVM**"
   ]
  },
  {
   "cell_type": "code",
   "execution_count": 0,
   "metadata": {
    "colab": {},
    "colab_type": "code",
    "id": "MEEp0sf04pIP"
   },
   "outputs": [],
   "source": [
    "import numpy as np\n",
    "import matplotlib.pyplot as plt\n",
    "import random\n",
    "from numpy import linalg as LA"
   ]
  },
  {
   "cell_type": "markdown",
   "metadata": {
    "colab_type": "text",
    "id": "vJ2o5DL4478w"
   },
   "source": [
    "\n",
    "\n",
    "---\n",
    "\n",
    "\n",
    "**Generating Random linearly separable data**\n",
    "\n",
    "\n",
    "---\n",
    "\n"
   ]
  },
  {
   "cell_type": "code",
   "execution_count": 0,
   "metadata": {
    "colab": {},
    "colab_type": "code",
    "id": "UbaJAhdL5BLA"
   },
   "outputs": [],
   "source": [
    "data = [[np.random.rand(), np.random.rand()] for i in range(10)]\n",
    "\n",
    "for i, point in enumerate(data):\n",
    "  x, y = point\n",
    "  if 0.5*x - y + 0.25 > 0:\n",
    "    data[i].append(-1)\n",
    "  else:\n",
    "    data[i].append(1)\n",
    "\n"
   ]
  },
  {
   "cell_type": "markdown",
   "metadata": {
    "colab_type": "text",
    "id": "S3afrVhJ5FSS"
   },
   "source": [
    "\n",
    "\n",
    "---\n",
    "\n",
    "\n",
    "**Visualizing the above data**\n",
    "\n",
    "\n",
    "---\n",
    "\n"
   ]
  },
  {
   "cell_type": "code",
   "execution_count": 0,
   "metadata": {
    "colab": {
     "base_uri": "https://localhost:8080/",
     "height": 269
    },
    "colab_type": "code",
    "id": "6x0FkJik5LPi",
    "outputId": "6635f8d2-e0c1-4f05-d617-0e6abfb02c6d"
   },
   "outputs": [
    {
     "data": {
      "image/png": "[encoded data removed]",
      "text/plain": [
       "<Figure size 432x288 with 1 Axes>"
      ]
     },
     "metadata": {
      "needs_background": "light",
      "tags": []
     },
     "output_type": "display_data"
    }
   ],
   "source": [
    "for x, y, l in data:\n",
    "  if l == 1: \n",
    "    clr = 'red'\n",
    "  else: \n",
    "    clr = 'blue'\n",
    "  plt.scatter(x, y, c=clr)\n",
    "  plt.xlim(0,1)\n",
    "  plt.ylim(0,1)"
   ]
  },
  {
   "cell_type": "markdown",
   "metadata": {
    "colab_type": "text",
    "id": "yXabL9FB5Qe1"
   },
   "source": [
    "\n",
    "\n",
    "---\n",
    "\n",
    "\n",
    "**Train a SVM classifier using gradient descent and return a Weight Matrix which is a numpy array of length (N + 1) where N is dimension of training samples. You can refer to Fig. 1 in [this](https://www.cs.huji.ac.il/~shais/papers/ShalevSiSrCo10.pdf) paper for implementation. You can add arguments to svm_function according to your implementation.**\n",
    "\n",
    "\n",
    "---\n",
    "\n"
   ]
  },
  {
   "cell_type": "code",
   "execution_count": 0,
   "metadata": {
    "colab": {},
    "colab_type": "code",
    "id": "LpSHX3lT5VDt"
   },
   "outputs": [],
   "source": [
    "def svm_function(x, y, epoch, l_rate):\n",
    "    ###################################\n",
    "    ######## write your code here #####\n",
    "    ###################################\n",
    "    x = np.insert(x,0,1,axis=1)\n",
    "    n_samples,n_feature=x.shape\n",
    "    w= np.zeros(n_feature) \n",
    "    for e in range(epoch):\n",
    "        for i,j in enumerate(x):\n",
    "            condition=y[i]*(np.dot(x[i],w))>=1\n",
    "            if condition:\n",
    "                w=w-l_rate*(2*(1/epoch)*w)\n",
    "            else:\n",
    "                w=w - l_rate*(2*(1/epoch)*w - x[i]*y[i])\n",
    "     \n",
    "    ###################################\n",
    "    return w"
   ]
  },
  {
   "cell_type": "markdown",
   "metadata": {
    "colab_type": "text",
    "id": "-GMSHqOB5Y7n"
   },
   "source": [
    "\n",
    "\n",
    "---\n",
    "\n",
    "\n",
    "**Run SVM Classifier**\n",
    "\n",
    "\n",
    "---\n",
    "\n"
   ]
  },
  {
   "cell_type": "code",
   "execution_count": 0,
   "metadata": {
    "colab": {
     "base_uri": "https://localhost:8080/",
     "height": 221
    },
    "colab_type": "code",
    "id": "MY2AcFkZ5d2a",
    "outputId": "f1edf5b4-c05a-43cd-bc35-58f9e4d08802"
   },
   "outputs": [
    {
     "name": "stdout",
     "output_type": "stream",
     "text": [
      "[[0.32198511 0.06383987]\n",
      " [0.94680237 0.37838569]\n",
      " [0.60083867 0.35710606]\n",
      " [0.60589019 0.28504548]\n",
      " [0.43037763 0.9202178 ]\n",
      " [0.43572645 0.60988271]\n",
      " [0.29218475 0.50321309]\n",
      " [0.81929105 0.1768313 ]\n",
      " [0.68207832 0.95817059]\n",
      " [0.99125295 0.38177145]]\n",
      "[-1. -1. -1. -1.  1.  1.  1. -1.  1. -1.]\n",
      "[-0.50794741 -3.98797057  5.33176085]\n"
     ]
    }
   ],
   "source": [
    "data = np.asarray(data)\n",
    "X = data[:,:2]\n",
    "Y = data[:,2]\n",
    "print(X)\n",
    "print(Y)\n",
    "w = svm_function(X, Y, 10000, 0.01)\n",
    "print(w)"
   ]
  },
  {
   "cell_type": "markdown",
   "metadata": {
    "colab_type": "text",
    "id": "4t6lPISE5h4e"
   },
   "source": [
    "# **Visualize the classifier**\n",
    "\n",
    "\n",
    "---\n",
    "\n",
    "Write a code to draw a lines corrosponding to 'w' vector you got as output from svm_function and for a line from which actual data was generated (0.5*x - y + 0.25). \n",
    "\n",
    "---\n",
    "\n"
   ]
  },
  {
   "cell_type": "code",
   "execution_count": 0,
   "metadata": {
    "colab": {
     "base_uri": "https://localhost:8080/",
     "height": 283
    },
    "colab_type": "code",
    "id": "wrCLTSVx5mBF",
    "outputId": "9bae916c-4e71-4ef0-8132-9cbaa7e4ec12"
   },
   "outputs": [
    {
     "data": {
      "image/png": "[encoded data removed]",
      "text/plain": [
       "<Figure size 432x288 with 1 Axes>"
      ]
     },
     "metadata": {
      "needs_background": "light",
      "tags": []
     },
     "output_type": "display_data"
    }
   ],
   "source": [
    "###################################\n",
    "###### write your code here########\n",
    "###################################\n",
    "for x, y, l in data:\n",
    "    if l == 1: \n",
    "        clr = 'red'\n",
    "    else: \n",
    "        clr = 'blue'\n",
    "    plt.scatter(x, y, c=clr)\n",
    "    plt.xlim(0,1)\n",
    "    plt.ylim(0,1)\n",
    "x1 = np.linspace(0, 1, num=400)\n",
    "z = 0.5*x1 + 0.25\n",
    "x2 = -(((w[1])/w[2])*x1+w[0]/w[2])\n",
    "plt.plot(x1, x2,'y',label='SVM Output')\n",
    "plt.plot(x1,z,'--k',label='Original')\n",
    "plt.xlabel('Feautre x1')\n",
    "plt.ylabel('Feature x2')\n",
    "plt.legend()\n",
    "plt.show()"
   ]
  },
  {
   "cell_type": "markdown",
   "metadata": {
    "colab_type": "text",
    "id": "zSQ2B6IK7pRq"
   },
   "source": [
    "#**Linearly Non-separable Data**"
   ]
  },
  {
   "cell_type": "code",
   "execution_count": 0,
   "metadata": {
    "colab": {
     "base_uri": "https://localhost:8080/",
     "height": 279
    },
    "colab_type": "code",
    "id": "kZ5Mt_3Z73WS",
    "outputId": "db2dbfc5-6fe1-4a64-9382-9bcdd0f97e55"
   },
   "outputs": [
    {
     "data": {
      "image/png": "[encoded data removed]",
      "text/plain": [
       "<Figure size 432x288 with 1 Axes>"
      ]
     },
     "metadata": {
      "needs_background": "light",
      "tags": []
     },
     "output_type": "display_data"
    }
   ],
   "source": [
    "from sklearn.datasets import make_circles\n",
    "from matplotlib import pyplot\n",
    "from pandas import DataFrame\n",
    "\n",
    "# generate 2d classification dataset\n",
    "X, y = make_circles(n_samples=100, noise=0.05)\n",
    "# scatter plot, dots colored by class value\n",
    "df = DataFrame(dict(x=X[:,0], y=X[:,1], label=y))\n",
    "colors = {0:'red', 1:'blue'}\n",
    "fig, ax = pyplot.subplots()\n",
    "grouped = df.groupby('label')\n",
    "for key, group in grouped:\n",
    "    group.plot(ax=ax, kind='scatter', x='x', y='y', label=key, color=colors[key])\n",
    "pyplot.show()\n"
   ]
  },
  {
   "cell_type": "markdown",
   "metadata": {
    "colab_type": "text",
    "id": "SDtuOIuy6xPL"
   },
   "source": [
    "\n",
    "\n",
    "---\n",
    "\n",
    "\n",
    "**Train a SVM classifier on the linearly non-separable data by appropriate features crafted from input data For linearly non-separable data, you need to transform the data in a space where it can be linearly seprable.\n",
    "These features can be exponential, polynomial, trignometric or any other function of actual input features.\n",
    "For example, if your input data is (x1, x2) you can have hand-crafted features as (sin(x1), cos(x1), cos(x2), x1-x2).\n",
    "Here you need to think of which hand-crafted features can be best suited for data given to you.\n",
    "Write a function to convert input features to hand-crafted features. Use these features to train a SVM using svm_function.\n",
    "Note that, if you choose to have L hand-crafted features, SVM will return L+1 dimensional 'w'.**\n",
    "\n",
    "\n",
    "---\n",
    "\n"
   ]
  },
  {
   "cell_type": "code",
   "execution_count": 0,
   "metadata": {
    "colab": {
     "base_uri": "https://localhost:8080/",
     "height": 564
    },
    "colab_type": "code",
    "id": "rZF4nHvz6-2I",
    "outputId": "299fcdf4-a034-43eb-cd2b-42e6bed189d4"
   },
   "outputs": [
    {
     "data": {
      "image/png": "[encoded data removed]",
      "text/plain": [
       "<Figure size 432x288 with 1 Axes>"
      ]
     },
     "metadata": {
      "needs_background": "light",
      "tags": []
     },
     "output_type": "display_data"
    },
    {
     "name": "stdout",
     "output_type": "stream",
     "text": [
      "[ 16.54379407 -10.29499683 -10.29499683]\n"
     ]
    },
    {
     "data": {
      "image/png": "[encoded data removed]",
      "text/plain": [
       "<Figure size 432x288 with 1 Axes>"
      ]
     },
     "metadata": {
      "needs_background": "light",
      "tags": []
     },
     "output_type": "display_data"
    }
   ],
   "source": [
    "#####################################\n",
    "######## write your code here########\n",
    "#####################################\n",
    "def feature(X,label):\n",
    "  label=np.array(label)\n",
    "  for i in range(len(label)):\n",
    "    if(label[i]==0):\n",
    "      label[i]=-1\n",
    "  x1= np.square(X[:,0]) + np.square(X[:,1])\n",
    "  x2= np.square(X[:,0]) + np.square(X[:,1])\n",
    "\n",
    "  train = np.column_stack((x1,x2,label))\n",
    "  return train\n",
    "\n",
    "train=feature(X,df['label'])\n",
    "\n",
    "for p, q, l in train:\n",
    "    if l == 1: \n",
    "        clr = 'red'\n",
    "    else: \n",
    "        clr = 'blue'\n",
    "    plt.scatter(p, q, c=clr)\n",
    "  \n",
    "\n",
    "plt.xlabel(\"Feature phi_x1\")\n",
    "plt.ylabel(\"Feature phi_x1\")\n",
    "plt.show()\n",
    "\n",
    "w = svm_function(train[:,:2], train[:,2], 60000, 0.01)\n",
    "print(w)\n",
    "\n",
    "\n",
    "for p, q, l in train:\n",
    "    if l == 1: \n",
    "        clr = 'red'\n",
    "    else: \n",
    "        clr = 'blue'\n",
    "    plt.scatter(p, q, c=clr)\n",
    "\n",
    "\n",
    "a = np.linspace(0, 2, 400)\n",
    "b = -(((w[1])/w[2])*a+w[0]/w[2])\n",
    "plt.plot(a, b,'y',label=\"SVM Output\")\n",
    "plt.xlabel(\"Feature phi_x1\")\n",
    "plt.ylabel(\"Feature phi_x1\")\n",
    "plt.xlim(0.5,1.2)\n",
    "plt.ylim(0.5,1.2)\n",
    "plt.legend()\n",
    "plt.show()"
   ]
  },
  {
   "cell_type": "markdown",
   "metadata": {
    "colab_type": "text",
    "id": "k9RC8lVS81F8"
   },
   "source": [
    "\n",
    "\n",
    "---\n",
    "\n",
    "\n",
    "**Visualize the data points in the new feature space \"if possible\" to see whether they got separated or not.**\n",
    "\n",
    "\n",
    "---\n",
    "\n"
   ]
  },
  {
   "cell_type": "code",
   "execution_count": 0,
   "metadata": {
    "colab": {
     "base_uri": "https://localhost:8080/",
     "height": 626
    },
    "colab_type": "code",
    "id": "T_M3rNKF7g-W",
    "outputId": "e3ad627d-0e77-4828-f137-0d1e50620932"
   },
   "outputs": [
    {
     "name": "stderr",
     "output_type": "stream",
     "text": [
      "/usr/local/lib/python3.6/dist-packages/ipykernel_launcher.py:15: RuntimeWarning: invalid value encountered in sqrt\n",
      "  from ipykernel import kernelapp as app\n"
     ]
    },
    {
     "data": {
      "image/png": "[encoded data removed]",
      "text/plain": [
       "<Figure size 720x720 with 1 Axes>"
      ]
     },
     "metadata": {
      "needs_background": "light",
      "tags": []
     },
     "output_type": "display_data"
    }
   ],
   "source": [
    "#####################################\n",
    "####### write your code here ########\n",
    "#####################################\n",
    "\n",
    "original = np.column_stack((X[:,0:2],train[:,2]))\n",
    "plt.figure(figsize=(10,10))\n",
    "for p, q, l in original:\n",
    "    if l == 1: \n",
    "        clr = 'red'\n",
    "    else: \n",
    "        clr = 'blue'\n",
    "    plt.scatter(p, q, c=clr)\n",
    "\n",
    "a = np.linspace(-1, 1, num=20000)\n",
    "b = np.sqrt(-np.square(a)-(w[0]/(w[1]+w[2])))\n",
    "plt.plot(a,b,c='g',label='SVM Hyperplanee')\n",
    "plt.plot(a,(-b),c='g')\n",
    "plt.legend()\n",
    "plt.show()\n",
    "pyplot.show()"
   ]
  },
  {
   "cell_type": "code",
   "execution_count": 0,
   "metadata": {
    "colab": {},
    "colab_type": "code",
    "id": "-4IHml7j-wdo"
   },
   "outputs": [],
   "source": []
  }
 ],
 "metadata": {
  "colab": {
   "collapsed_sections": [],
   "name": "Assignment_ML_L5.ipynb",
   "provenance": []
  },
  "kernelspec": {
   "display_name": "Python 3",
   "language": "python",
   "name": "python3"
  },
  "language_info": {
   "codemirror_mode": {
    "name": "ipython",
    "version": 3
   },
   "file_extension": ".py",
   "mimetype": "text/x-python",
   "name": "python",
   "nbconvert_exporter": "python",
   "pygments_lexer": "ipython3",
   "version": "3.6.9"
  }
 },
 "nbformat": 4,
 "nbformat_minor": 1
}
