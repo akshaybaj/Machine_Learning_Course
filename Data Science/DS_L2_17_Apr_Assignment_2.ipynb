{
 "cells": [
  {
   "cell_type": "markdown",
   "metadata": {
    "colab_type": "text",
    "id": "1X6ddOR8HFsX"
   },
   "source": [
    "\n",
    "# **Assignment - 2: Basic Data Understanding**\n",
    "\n",
    "---\n",
    "\n",
    "This assignment will get you familiarized with Python libraries and  functions required for data visualization."
   ]
  },
  {
   "cell_type": "markdown",
   "metadata": {
    "colab_type": "text",
    "id": "XRd4EfXN5fQb"
   },
   "source": [
    "---\n",
    "## Part 1 - Loading data \n",
    "---"
   ]
  },
  {
   "cell_type": "markdown",
   "metadata": {
    "colab_type": "text",
    "id": "Q7W6I-fVIoqp"
   },
   "source": [
    "###Import the following libraries:  \n",
    "\n",
    "* ```numpy``` with an alias name ```np```, \n",
    "* ```pandas``` with an alias name ```pd```, \n",
    "* ```matplotlib.pyplot``` with an alias name ```plt```, and \n",
    "* ```seaborn``` with an alias name ```sns```. "
   ]
  },
  {
   "cell_type": "code",
   "execution_count": 36,
   "metadata": {
    "colab": {},
    "colab_type": "code",
    "id": "NihF3MwIGI4m"
   },
   "outputs": [],
   "source": [
    "# Load the four libraries with their aliases \n",
    "import numpy as np\n",
    "import pandas as pd\n",
    "import matplotlib.pyplot as plt\n",
    "import seaborn as sns"
   ]
  },
  {
   "cell_type": "markdown",
   "metadata": {
    "colab_type": "text",
    "id": "dsLj-TSQJgMb"
   },
   "source": [
    "### Using the files ```train.csv``` and ```moviesData.csv```,  peform the following:\n",
    "\n",
    "* Load these file as ```pandas``` dataframes and store it in variables named ```df``` and ```movies``` respectively. \n",
    "* Print the first ten rows of ```df```. \n",
    "\n"
   ]
  },
  {
   "cell_type": "code",
   "execution_count": 92,
   "metadata": {
    "colab": {},
    "colab_type": "code",
    "id": "3AjvT40AGIq6"
   },
   "outputs": [],
   "source": [
    "# Load the file as a dataframe \n",
    "df = pd.read_csv('train.csv')\n",
    "movies = pd.read_csv('moviesData.csv')"
   ]
  },
  {
   "cell_type": "code",
   "execution_count": 38,
   "metadata": {
    "colab": {},
    "colab_type": "code",
    "id": "7eCo7WlMGMkn"
   },
   "outputs": [
    {
     "data": {
      "text/html": [
       "<div>\n",
       "<style scoped>\n",
       "    .dataframe tbody tr th:only-of-type {\n",
       "        vertical-align: middle;\n",
       "    }\n",
       "\n",
       "    .dataframe tbody tr th {\n",
       "        vertical-align: top;\n",
       "    }\n",
       "\n",
       "    .dataframe thead th {\n",
       "        text-align: right;\n",
       "    }\n",
       "</style>\n",
       "<table border=\"1\" class=\"dataframe\">\n",
       "  <thead>\n",
       "    <tr style=\"text-align: right;\">\n",
       "      <th></th>\n",
       "      <th>Age</th>\n",
       "      <th>Attrition</th>\n",
       "      <th>BusinessTravel</th>\n",
       "      <th>DailyRate</th>\n",
       "      <th>Department</th>\n",
       "      <th>DistanceFromHome</th>\n",
       "      <th>Education</th>\n",
       "      <th>EducationField</th>\n",
       "      <th>EmployeeCount</th>\n",
       "      <th>EmployeeNumber</th>\n",
       "      <th>...</th>\n",
       "      <th>RelationshipSatisfaction</th>\n",
       "      <th>StockOptionLevel</th>\n",
       "      <th>TotalWorkingYears</th>\n",
       "      <th>TrainingTimesLastYear</th>\n",
       "      <th>WorkLifeBalance</th>\n",
       "      <th>YearsAtCompany</th>\n",
       "      <th>YearsInCurrentRole</th>\n",
       "      <th>YearsSinceLastPromotion</th>\n",
       "      <th>YearsWithCurrManager</th>\n",
       "      <th>ID</th>\n",
       "    </tr>\n",
       "  </thead>\n",
       "  <tbody>\n",
       "    <tr>\n",
       "      <th>0</th>\n",
       "      <td>41</td>\n",
       "      <td>1</td>\n",
       "      <td>Travel_Rarely</td>\n",
       "      <td>1102</td>\n",
       "      <td>Sales</td>\n",
       "      <td>1</td>\n",
       "      <td>2</td>\n",
       "      <td>Life Sciences</td>\n",
       "      <td>1</td>\n",
       "      <td>1</td>\n",
       "      <td>...</td>\n",
       "      <td>1</td>\n",
       "      <td>0</td>\n",
       "      <td>8</td>\n",
       "      <td>0</td>\n",
       "      <td>1</td>\n",
       "      <td>6</td>\n",
       "      <td>4</td>\n",
       "      <td>0</td>\n",
       "      <td>5</td>\n",
       "      <td>0</td>\n",
       "    </tr>\n",
       "    <tr>\n",
       "      <th>1</th>\n",
       "      <td>49</td>\n",
       "      <td>0</td>\n",
       "      <td>Travel_Frequently</td>\n",
       "      <td>279</td>\n",
       "      <td>Research &amp; Development</td>\n",
       "      <td>8</td>\n",
       "      <td>1</td>\n",
       "      <td>Life Sciences</td>\n",
       "      <td>1</td>\n",
       "      <td>2</td>\n",
       "      <td>...</td>\n",
       "      <td>4</td>\n",
       "      <td>1</td>\n",
       "      <td>10</td>\n",
       "      <td>3</td>\n",
       "      <td>3</td>\n",
       "      <td>10</td>\n",
       "      <td>7</td>\n",
       "      <td>1</td>\n",
       "      <td>7</td>\n",
       "      <td>1</td>\n",
       "    </tr>\n",
       "    <tr>\n",
       "      <th>2</th>\n",
       "      <td>37</td>\n",
       "      <td>1</td>\n",
       "      <td>Travel_Rarely</td>\n",
       "      <td>1373</td>\n",
       "      <td>Research &amp; Development</td>\n",
       "      <td>2</td>\n",
       "      <td>2</td>\n",
       "      <td>Other</td>\n",
       "      <td>1</td>\n",
       "      <td>4</td>\n",
       "      <td>...</td>\n",
       "      <td>2</td>\n",
       "      <td>0</td>\n",
       "      <td>7</td>\n",
       "      <td>3</td>\n",
       "      <td>3</td>\n",
       "      <td>0</td>\n",
       "      <td>0</td>\n",
       "      <td>0</td>\n",
       "      <td>0</td>\n",
       "      <td>2</td>\n",
       "    </tr>\n",
       "    <tr>\n",
       "      <th>3</th>\n",
       "      <td>33</td>\n",
       "      <td>0</td>\n",
       "      <td>Travel_Frequently</td>\n",
       "      <td>1392</td>\n",
       "      <td>Research &amp; Development</td>\n",
       "      <td>3</td>\n",
       "      <td>4</td>\n",
       "      <td>Life Sciences</td>\n",
       "      <td>1</td>\n",
       "      <td>5</td>\n",
       "      <td>...</td>\n",
       "      <td>3</td>\n",
       "      <td>0</td>\n",
       "      <td>8</td>\n",
       "      <td>3</td>\n",
       "      <td>3</td>\n",
       "      <td>8</td>\n",
       "      <td>7</td>\n",
       "      <td>3</td>\n",
       "      <td>0</td>\n",
       "      <td>3</td>\n",
       "    </tr>\n",
       "    <tr>\n",
       "      <th>4</th>\n",
       "      <td>27</td>\n",
       "      <td>0</td>\n",
       "      <td>Travel_Rarely</td>\n",
       "      <td>591</td>\n",
       "      <td>Research &amp; Development</td>\n",
       "      <td>2</td>\n",
       "      <td>1</td>\n",
       "      <td>Medical</td>\n",
       "      <td>1</td>\n",
       "      <td>7</td>\n",
       "      <td>...</td>\n",
       "      <td>4</td>\n",
       "      <td>1</td>\n",
       "      <td>6</td>\n",
       "      <td>3</td>\n",
       "      <td>3</td>\n",
       "      <td>2</td>\n",
       "      <td>2</td>\n",
       "      <td>2</td>\n",
       "      <td>2</td>\n",
       "      <td>4</td>\n",
       "    </tr>\n",
       "  </tbody>\n",
       "</table>\n",
       "<p>5 rows × 34 columns</p>\n",
       "</div>"
      ],
      "text/plain": [
       "   Age  Attrition     BusinessTravel  DailyRate              Department  \\\n",
       "0   41          1      Travel_Rarely       1102                   Sales   \n",
       "1   49          0  Travel_Frequently        279  Research & Development   \n",
       "2   37          1      Travel_Rarely       1373  Research & Development   \n",
       "3   33          0  Travel_Frequently       1392  Research & Development   \n",
       "4   27          0      Travel_Rarely        591  Research & Development   \n",
       "\n",
       "   DistanceFromHome  Education EducationField  EmployeeCount  EmployeeNumber  \\\n",
       "0                 1          2  Life Sciences              1               1   \n",
       "1                 8          1  Life Sciences              1               2   \n",
       "2                 2          2          Other              1               4   \n",
       "3                 3          4  Life Sciences              1               5   \n",
       "4                 2          1        Medical              1               7   \n",
       "\n",
       "   ...  RelationshipSatisfaction StockOptionLevel  TotalWorkingYears  \\\n",
       "0  ...                         1                0                  8   \n",
       "1  ...                         4                1                 10   \n",
       "2  ...                         2                0                  7   \n",
       "3  ...                         3                0                  8   \n",
       "4  ...                         4                1                  6   \n",
       "\n",
       "   TrainingTimesLastYear  WorkLifeBalance YearsAtCompany  YearsInCurrentRole  \\\n",
       "0                      0                1              6                   4   \n",
       "1                      3                3             10                   7   \n",
       "2                      3                3              0                   0   \n",
       "3                      3                3              8                   7   \n",
       "4                      3                3              2                   2   \n",
       "\n",
       "  YearsSinceLastPromotion  YearsWithCurrManager  ID  \n",
       "0                       0                     5   0  \n",
       "1                       1                     7   1  \n",
       "2                       0                     0   2  \n",
       "3                       3                     0   3  \n",
       "4                       2                     2   4  \n",
       "\n",
       "[5 rows x 34 columns]"
      ]
     },
     "execution_count": 38,
     "metadata": {},
     "output_type": "execute_result"
    }
   ],
   "source": [
    "# Print the first ten rows of df\n",
    "df.head()"
   ]
  },
  {
   "cell_type": "markdown",
   "metadata": {
    "colab_type": "text",
    "id": "PSm-U7LEF5u_"
   },
   "source": [
    "### Using the dataframe ```df```, perform the following: \n",
    "\n",
    "* Print the first five rows of the column ```MonthlyRate```. \n",
    "* Find out the details of the column ```MonthlyRate``` like mean, maximum value, minimum value, etc. "
   ]
  },
  {
   "cell_type": "code",
   "execution_count": 39,
   "metadata": {
    "colab": {},
    "colab_type": "code",
    "id": "QS5LttI-GT2f"
   },
   "outputs": [
    {
     "data": {
      "text/plain": [
       "0    19479\n",
       "1    24907\n",
       "2     2396\n",
       "3    23159\n",
       "4    16632\n",
       "Name: MonthlyRate, dtype: int64"
      ]
     },
     "execution_count": 39,
     "metadata": {},
     "output_type": "execute_result"
    }
   ],
   "source": [
    "# Print the first five rows of MonthlyRate\n",
    "df['MonthlyRate'].head()"
   ]
  },
  {
   "cell_type": "code",
   "execution_count": 40,
   "metadata": {
    "colab": {},
    "colab_type": "code",
    "id": "EzQ1a1M0GURm"
   },
   "outputs": [
    {
     "data": {
      "text/plain": [
       "count     1028.000000\n",
       "mean     14243.531128\n",
       "std       7048.768076\n",
       "min       2094.000000\n",
       "25%       8259.750000\n",
       "50%      14074.500000\n",
       "75%      20342.250000\n",
       "max      26999.000000\n",
       "Name: MonthlyRate, dtype: float64"
      ]
     },
     "execution_count": 40,
     "metadata": {},
     "output_type": "execute_result"
    }
   ],
   "source": [
    "# Find the details of MonthlyRate \n",
    "df['MonthlyRate'].describe()"
   ]
  },
  {
   "cell_type": "markdown",
   "metadata": {
    "colab_type": "text",
    "id": "3h-YOTvPQI48"
   },
   "source": [
    "---\n",
    "## Part 2 - Cleaning and manipulating data \n",
    "---"
   ]
  },
  {
   "cell_type": "markdown",
   "metadata": {
    "colab_type": "text",
    "id": "EtLzBibsQfXu"
   },
   "source": [
    "### Using the dataframe ```df```, peform the following:\n",
    "\n",
    "* Check whether there are any missing values in ```df```. \n",
    "* If yes, drop those values and print the size of ```df``` after dropping these. "
   ]
  },
  {
   "cell_type": "code",
   "execution_count": 61,
   "metadata": {
    "colab": {},
    "colab_type": "code",
    "id": "XG-UK53fRDRZ"
   },
   "outputs": [
    {
     "name": "stdout",
     "output_type": "stream",
     "text": [
      "No column with any missing value\n",
      "(1028, 35)\n"
     ]
    }
   ],
   "source": [
    "# Check for missing values \n",
    "data= df.isnull().sum()\n",
    "k=0\n",
    "for i,j in enumerate(data):\n",
    "    if j!=0:\n",
    "        k=1\n",
    "        print(data.index[i])\n",
    "if k==0:\n",
    "    print(\"No column with any missing value\")\n",
    "# Drop the missing values \n",
    "df=df.dropna()\n",
    "\n",
    "# Print the size of df after dropping \n",
    "\n",
    "print(df.shape)"
   ]
  },
  {
   "cell_type": "markdown",
   "metadata": {
    "colab_type": "text",
    "id": "qtoGcl2XRWnS"
   },
   "source": [
    "### Using the dataframe ```df```, peform the following:\n",
    "\n",
    "* Add another column named ```MonthRateNew``` in ```df``` by subtracting the mean from ```MonthlyRate``` and dividing it by standard deviation. "
   ]
  },
  {
   "cell_type": "code",
   "execution_count": 62,
   "metadata": {
    "colab": {},
    "colab_type": "code",
    "id": "zDMncSUKR12P"
   },
   "outputs": [],
   "source": [
    "# Add a column named MonthRateNew \n",
    "\n",
    "df['MonthRateNew'] = (df['MonthlyRate'] - df['MonthlyRate'].mean() ) / (df['MonthlyRate']).std()\n"
   ]
  },
  {
   "cell_type": "markdown",
   "metadata": {
    "colab_type": "text",
    "id": "pcbN7jep13og"
   },
   "source": [
    "### Using the dataframe ```movies```, perform the following: \n",
    "\n",
    "* Check whether there are any missing values in ```movies```. \n",
    "* Find out the number of observations/rows having any of their features/columns missing. \n",
    "* Drop the missing values and print the size of ```movies``` after dropping these. \n",
    "* Instead of dropping the missing values, replace the missing values by their mean (or some suitable value). \n"
   ]
  },
  {
   "cell_type": "code",
   "execution_count": 93,
   "metadata": {
    "colab": {},
    "colab_type": "code",
    "id": "DNszBx8A14ai"
   },
   "outputs": [
    {
     "name": "stdout",
     "output_type": "stream",
     "text": [
      "Size after dropping null values: (572, 31)\n",
      "\n",
      "The list of columns having null values:\n",
      "['runtime', 'studio', 'dvd_rel_year', 'dvd_rel_month', 'dvd_rel_day', 'director', 'actor1', 'actor2', 'actor3', 'actor4', 'actor5']\n",
      "Size after replacing null values instead of removing them  (600, 31)\n"
     ]
    }
   ],
   "source": [
    "# Check for missing values \n",
    "missing=movies.isnull().sum()\n",
    "#print(missing)\n",
    "# Drop the missing values \n",
    "movies_dropped=movies.dropna()\n",
    "print(\"Size after dropping null values:\", movies_dropped.shape)\n",
    "\n",
    "# Replace the missing values \n",
    "columns=[]\n",
    "print(\"\\nThe list of columns having null values:\")\n",
    "for i,j in enumerate(missing):\n",
    "    if j!=0:\n",
    "        columns.append(missing.index[i])\n",
    "\n",
    "print(columns) \n",
    "\n",
    "movies.fillna(movies.mean(),inplace=True)\n",
    "\n",
    "miss=movies.isnull().sum()\n",
    "\n",
    "columns=[]\n",
    "\n",
    "for i,j in enumerate(miss):\n",
    "    if j!=0:\n",
    "        columns.append(miss.index[i])\n",
    "# You can use SimpleImputer of sklearn for this\n",
    "for column in columns:\n",
    "    movies[column].fillna(\"Not Known\", inplace = True) \n",
    "\n",
    "print(\"Size after replacing null values instead of removing them \" , movies.shape)"
   ]
  },
  {
   "cell_type": "markdown",
   "metadata": {
    "colab_type": "text",
    "id": "qDr11sjlBk_W"
   },
   "source": [
    "---\n",
    "## Part 3 - Visualizing data \n",
    "---"
   ]
  },
  {
   "cell_type": "markdown",
   "metadata": {
    "colab_type": "text",
    "id": "wC_w1zNCBw2G"
   },
   "source": [
    "### Visualize the ```df``` by drawing the following plots:\n",
    "\n",
    "* Plot a histogram of ```Age``` and find the range in which most people are there. \n",
    "* Modify the histogram of ```Age``` by adding 30 bins. \n",
    "* Draw a scatter plot between ```Age``` and ```Attrition``` and suitable labels to the axes. Find out whether people more than 50 years are more likely to leave the company. (```Attrition``` = 1 means people have left the company). "
   ]
  },
  {
   "cell_type": "code",
   "execution_count": 105,
   "metadata": {
    "colab": {},
    "colab_type": "code",
    "id": "645EwAsoH63i"
   },
   "outputs": [
    {
     "data": {
      "image/png": "[encoded data removed]",
      "text/plain": [
       "<Figure size 432x288 with 1 Axes>"
      ]
     },
     "metadata": {
      "needs_background": "light"
     },
     "output_type": "display_data"
    },
    {
     "data": {
      "image/png": "[encoded data removed]",
      "text/plain": [
       "<Figure size 432x288 with 1 Axes>"
      ]
     },
     "metadata": {
      "needs_background": "light"
     },
     "output_type": "display_data"
    },
    {
     "data": {
      "image/png": "[encoded data removed]",
      "text/plain": [
       "<Figure size 432x288 with 1 Axes>"
      ]
     },
     "metadata": {
      "needs_background": "light"
     },
     "output_type": "display_data"
    }
   ],
   "source": [
    "# Plot and modify the histogram of Age\n",
    "plt.hist(df.Age)\n",
    "plt.title(\"Histogram for Age\")\n",
    "plt.ylabel(\"Count\")\n",
    "plt.xlabel(\"Age\")\n",
    "plt.show()\n",
    "# Draw a scatter plot between Age and Attrition\n",
    "plt.scatter(df.Age,df.Attrition)\n",
    "plt.ylabel(\"Attrition\")\n",
    "plt.xlabel(\"Age\")\n",
    "plt.title(\"Scatter plot for Attrition vs Age\")\n",
    "plt.show()\n",
    "\n",
    "plt.hist(df.Age,bins=30)\n",
    "plt.title(\"Modified Histogram for Age (30 bins)\")\n",
    "plt.ylabel(\"Count\")\n",
    "plt.xlabel(\"Age\")\n",
    "plt.show()"
   ]
  },
  {
   "cell_type": "markdown",
   "metadata": {
    "colab_type": "text",
    "id": "eez_pkZ-HDKP"
   },
   "source": [
    "### Visualize the ```df``` by following the steps given below:\n",
    "\n",
    "* Get a series containing counts of unique values of ```Attrition```.\n",
    "* Draw a countplot for ```Attrition``` using ```sns.countplot()```. "
   ]
  },
  {
   "cell_type": "code",
   "execution_count": 111,
   "metadata": {
    "colab": {},
    "colab_type": "code",
    "id": "Tp8LnxLWIPfk"
   },
   "outputs": [
    {
     "name": "stdout",
     "output_type": "stream",
     "text": [
      "0    856\n",
      "1    172\n",
      "Name: Attrition, dtype: int64\n"
     ]
    },
    {
     "data": {
      "text/plain": [
       "<matplotlib.axes._subplots.AxesSubplot at 0x7f3e242504a8>"
      ]
     },
     "execution_count": 111,
     "metadata": {},
     "output_type": "execute_result"
    },
    {
     "data": {
      "image/png": "[encoded data removed]",
      "text/plain": [
       "<Figure size 432x288 with 1 Axes>"
      ]
     },
     "metadata": {
      "needs_background": "light"
     },
     "output_type": "display_data"
    }
   ],
   "source": [
    "# Get a series of counts of values of Attrition\n",
    "\n",
    "values=df.Attrition.value_counts()\n",
    "print(values)\n",
    "sns.countplot(x='Attrition',data=df)\n",
    "# Draw a countplot for Attrition \n",
    "# You may use countplot of seaborn for this \n",
    "\n"
   ]
  },
  {
   "cell_type": "markdown",
   "metadata": {
    "colab_type": "text",
    "id": "Vi01m9MBHaJD"
   },
   "source": [
    "### Visualize the ```df``` by following the steps given below:\n",
    "\n",
    "* Draw a cross tabulation of ```Attrition``` and ```BusinessTravel``` as bar charts. Find which value of ```BusinessTravel``` has highest number of people."
   ]
  },
  {
   "cell_type": "code",
   "execution_count": 120,
   "metadata": {
    "colab": {},
    "colab_type": "code",
    "id": "5OHAeOqeIQVM"
   },
   "outputs": [
    {
     "data": {
      "image/png": "[encoded data removed]",
      "text/plain": [
       "<Figure size 432x288 with 1 Axes>"
      ]
     },
     "metadata": {
      "needs_background": "light"
     },
     "output_type": "display_data"
    },
    {
     "name": "stdout",
     "output_type": "stream",
     "text": [
      "As evident from the graph , Travel_Rarely has the highest number of attrition\n"
     ]
    }
   ],
   "source": [
    "# Draw a cross tab of Attritiona and BusinessTravel \n",
    "# You may use crosstab of pandas for this \n",
    "pd.crosstab(df.BusinessTravel,df.Attrition).plot(kind='bar')\n",
    "plt.ylabel('Attrition Count')\n",
    "plt.show()\n",
    "print(\"As evident from the graph , Travel_Rarely has the highest number of attrition\")"
   ]
  },
  {
   "cell_type": "markdown",
   "metadata": {
    "colab_type": "text",
    "id": "1FCc9ZkUHfqL"
   },
   "source": [
    "### Visualize the ```df``` by drawing the following plot:\n",
    "\n",
    "* Draw a stacked bar chart between ```Attrition``` and ```Gender``` columns. "
   ]
  },
  {
   "cell_type": "code",
   "execution_count": 116,
   "metadata": {
    "colab": {},
    "colab_type": "code",
    "id": "58ELSAXBIQST"
   },
   "outputs": [
    {
     "data": {
      "text/plain": [
       "Text(0, 0.5, 'Attrition Count')"
      ]
     },
     "execution_count": 116,
     "metadata": {},
     "output_type": "execute_result"
    },
    {
     "data": {
      "image/png": "[encoded data removed]",
      "text/plain": [
       "<Figure size 432x288 with 1 Axes>"
      ]
     },
     "metadata": {
      "needs_background": "light"
     },
     "output_type": "display_data"
    }
   ],
   "source": [
    "# Draw a stacked bar chart between Attrition and Gender \n",
    "table=pd.crosstab(df.Gender,df.Attrition).plot(kind='bar',stacked=True)\n",
    "plt.ylabel('Attrition Count')\n"
   ]
  },
  {
   "cell_type": "markdown",
   "metadata": {
    "colab_type": "text",
    "id": "vZzsi8_QLEdq"
   },
   "source": [
    "### Visualize the ```df``` by drawing the following histogram:\n",
    "\n",
    "* Draw a histogram of ```TotalWorkingYears``` with 30 bins. \n",
    "* Draw a histogram of ```YearsAtCompany``` with 30 bins and find whether the values in ```YearsAtCompany``` are skewed. "
   ]
  },
  {
   "cell_type": "code",
   "execution_count": 119,
   "metadata": {
    "colab": {},
    "colab_type": "code",
    "id": "zvSlfj3FLUvV"
   },
   "outputs": [
    {
     "data": {
      "image/png": "[encoded data removed]",
      "text/plain": [
       "<Figure size 432x288 with 1 Axes>"
      ]
     },
     "metadata": {
      "needs_background": "light"
     },
     "output_type": "display_data"
    },
    {
     "data": {
      "image/png": "[encoded data removed]",
      "text/plain": [
       "<Figure size 432x288 with 1 Axes>"
      ]
     },
     "metadata": {
      "needs_background": "light"
     },
     "output_type": "display_data"
    },
    {
     "name": "stdout",
     "output_type": "stream",
     "text": [
      "The values for total years at company are skewed to the left \n"
     ]
    }
   ],
   "source": [
    "# Draw a histogram of TotalWorkingYears with 30 bins\n",
    "plt.hist(df.TotalWorkingYears,bins=30)\n",
    "plt.title(\"Histogram for Total Working Years\")\n",
    "plt.ylabel(\"Count\")\n",
    "plt.xlabel(\"Years\")\n",
    "plt.show()\n",
    "\n",
    "# Draw a histogram of YearsAtCompany\n",
    "\n",
    "plt.hist(df.YearsAtCompany,bins=30)\n",
    "plt.title(\"Histogram for years At Company\")\n",
    "plt.ylabel(\"Count\")\n",
    "plt.xlabel(\"Years\")\n",
    "plt.show()\n",
    "\n",
    "print(\"The values for total years at company are skewed to the left \")"
   ]
  },
  {
   "cell_type": "markdown",
   "metadata": {
    "colab_type": "text",
    "id": "oBcsFqz-Moja"
   },
   "source": [
    "### Visualize the ```df``` by drawing the following boxplot:\n",
    "\n",
    "* Draw a boxplot of ```MonthlyIncome``` for each ```Department``` and report whether there is/are outlier(s). \n"
   ]
  },
  {
   "cell_type": "code",
   "execution_count": 121,
   "metadata": {
    "colab": {},
    "colab_type": "code",
    "id": "S6zsSE65NED9"
   },
   "outputs": [
    {
     "data": {
      "text/plain": [
       "<matplotlib.axes._subplots.AxesSubplot at 0x7f3e217f76d8>"
      ]
     },
     "execution_count": 121,
     "metadata": {},
     "output_type": "execute_result"
    },
    {
     "data": {
      "image/png": "[encoded data removed]",
      "text/plain": [
       "<Figure size 432x288 with 1 Axes>"
      ]
     },
     "metadata": {
      "needs_background": "light"
     },
     "output_type": "display_data"
    }
   ],
   "source": [
    "# Draw a boxplot of MonthlyIncome for each Department and report outliers \n",
    "\n",
    "sns.boxplot('Department', 'MonthlyIncome', data=df)\n"
   ]
  },
  {
   "cell_type": "markdown",
   "metadata": {
    "colab_type": "text",
    "id": "NRPgJjp-NX07"
   },
   "source": [
    "### Visualize the ```df``` by drawing the following piechart:\n",
    "\n",
    "* Create a pie chart of the values in ```JobRole``` with suitable label and report which role has highest number of persons. "
   ]
  },
  {
   "cell_type": "code",
   "execution_count": 122,
   "metadata": {
    "colab": {},
    "colab_type": "code",
    "id": "5pr2HVVGNlaV"
   },
   "outputs": [
    {
     "data": {
      "image/png": "[encoded data removed]",
      "text/plain": [
       "<Figure size 432x288 with 1 Axes>"
      ]
     },
     "metadata": {},
     "output_type": "display_data"
    }
   ],
   "source": [
    "# Create a piechart of JobRole \n",
    "# You will need to find the counts of unique values in JobRole. \n",
    "counts=df.JobRole.value_counts()\n",
    "\n",
    "# plt.pie(Role_counts, labels=Role_counts)\n",
    "plt.pie(counts, labels=counts.index.tolist())\n",
    "plt.show()\n",
    "\n"
   ]
  },
  {
   "cell_type": "code",
   "execution_count": null,
   "metadata": {},
   "outputs": [],
   "source": []
  }
 ],
 "metadata": {
  "colab": {
   "collapsed_sections": [],
   "name": "Assignment_2_DS.ipynb",
   "provenance": []
  },
  "kernelspec": {
   "display_name": "Python 3",
   "language": "python",
   "name": "python3"
  },
  "language_info": {
   "codemirror_mode": {
    "name": "ipython",
    "version": 3
   },
   "file_extension": ".py",
   "mimetype": "text/x-python",
   "name": "python",
   "nbconvert_exporter": "python",
   "pygments_lexer": "ipython3",
   "version": "3.6.9"
  }
 },
 "nbformat": 4,
 "nbformat_minor": 1
}
