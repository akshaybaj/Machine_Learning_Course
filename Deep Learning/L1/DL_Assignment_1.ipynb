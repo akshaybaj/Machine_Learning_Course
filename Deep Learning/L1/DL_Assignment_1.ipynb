{
  "nbformat": 4,
  "nbformat_minor": 0,
  "metadata": {
    "colab": {
      "name": "Untitled",
      "provenance": [],
      "collapsed_sections": []
    },
    "kernelspec": {
      "name": "python3",
      "display_name": "Python 3"
    }
  },
  "cells": [
    {
      "cell_type": "code",
      "metadata": {
        "id": "xJf9TzgCs4sA",
        "colab_type": "code",
        "outputId": "b6a9c09a-d879-41ae-93b5-dc903c3d5311",
        "colab": {
          "base_uri": "https://localhost:8080/",
          "height": 34
        }
      },
      "source": [
        "import pandas as pd\n",
        "import numpy as np\n",
        "import matplotlib.pyplot as plt\n",
        "from keras.models import Sequential\n",
        "from keras import models, layers\n",
        "import keras\n",
        "from keras.datasets import mnist\n",
        "from keras.utils import np_utils"
      ],
      "execution_count": 0,
      "outputs": [
        {
          "output_type": "stream",
          "text": [
            "Using TensorFlow backend.\n"
          ],
          "name": "stderr"
        }
      ]
    },
    {
      "cell_type": "code",
      "metadata": {
        "id": "SQRaEqHBwgnu",
        "colab_type": "code",
        "outputId": "e107fab4-c877-45be-e77b-fcb423d2ad62",
        "colab": {
          "base_uri": "https://localhost:8080/",
          "height": 52
        }
      },
      "source": [
        "(x_train, y_train), (x_test, y_test) = mnist.load_data()"
      ],
      "execution_count": 0,
      "outputs": [
        {
          "output_type": "stream",
          "text": [
            "Downloading data from https://s3.amazonaws.com/img-datasets/mnist.npz\n",
            "11493376/11490434 [==============================] - 0s 0us/step\n"
          ],
          "name": "stdout"
        }
      ]
    },
    {
      "cell_type": "code",
      "metadata": {
        "id": "yUyZFIWnwkqE",
        "colab_type": "code",
        "outputId": "3cc86738-02ac-4f00-896f-7e638e43bcec",
        "colab": {
          "base_uri": "https://localhost:8080/",
          "height": 69
        }
      },
      "source": [
        "print(x_train.shape)\n",
        "print(y_train.shape)\n",
        "print(y_train[0:3])"
      ],
      "execution_count": 0,
      "outputs": [
        {
          "output_type": "stream",
          "text": [
            "(60000, 28, 28)\n",
            "(60000,)\n",
            "[5 0 4]\n"
          ],
          "name": "stdout"
        }
      ]
    },
    {
      "cell_type": "code",
      "metadata": {
        "id": "-h822YxYw1k4",
        "colab_type": "code",
        "outputId": "bd63a663-ede7-4a2e-aece-ecb45fbe88bd",
        "colab": {
          "base_uri": "https://localhost:8080/",
          "height": 52
        }
      },
      "source": [
        "def data_manipulation(x_train,x_test,y_train,y_test):\n",
        "  x_train = x_train.astype('float32')\n",
        "  x_test = x_test.astype('float32')\n",
        "\n",
        "  x_train /= 255\n",
        "  x_test /= 255\n",
        "\n",
        "\n",
        "  y_train = np_utils.to_categorical(y_train, 10)\n",
        "  y_test = np_utils.to_categorical(y_test, 10)\n",
        "\n",
        "  x_train = x_train.reshape(x_train.shape[0], 28,28,1)\n",
        "  x_test = x_test.reshape(x_test.shape[0], 28,28,1) \n",
        "\n",
        "  print(x_train.shape)\n",
        "  print(x_test.shape)\n",
        "  return x_train,x_test,y_train,y_test\n",
        "\n",
        "x_train,x_test,y_train,y_test=data_manipulation(x_train,x_test,y_train,y_test)"
      ],
      "execution_count": 0,
      "outputs": [
        {
          "output_type": "stream",
          "text": [
            "(60000, 28, 28, 1)\n",
            "(10000, 28, 28, 1)\n"
          ],
          "name": "stdout"
        }
      ]
    },
    {
      "cell_type": "code",
      "metadata": {
        "id": "leSmAKpCx9-3",
        "colab_type": "code",
        "colab": {}
      },
      "source": [
        "X_train= np.pad(x_train, ((0,0),(2,2),(2,2),(0,0)),'constant')\n",
        "X_test= np.pad(x_test, ((0,0),(2,2),(2,2),(0,0)),'constant')"
      ],
      "execution_count": 0,
      "outputs": []
    },
    {
      "cell_type": "code",
      "metadata": {
        "id": "5M6omHUlyJsx",
        "colab_type": "code",
        "outputId": "f5a39056-ca5d-4587-ab16-2a29fa095b3b",
        "colab": {
          "base_uri": "https://localhost:8080/",
          "height": 52
        }
      },
      "source": [
        "print(X_train.shape)\n",
        "print(X_test.shape)"
      ],
      "execution_count": 0,
      "outputs": [
        {
          "output_type": "stream",
          "text": [
            "(60000, 32, 32, 1)\n",
            "(10000, 32, 32, 1)\n"
          ],
          "name": "stdout"
        }
      ]
    },
    {
      "cell_type": "code",
      "metadata": {
        "id": "BLwi3oh7xdpt",
        "colab_type": "code",
        "outputId": "ff83a639-9b47-493f-c87d-a9b1c2fbfba7",
        "colab": {
          "base_uri": "https://localhost:8080/",
          "height": 434
        }
      },
      "source": [
        "def return_model():\n",
        "  model=Sequential()\n",
        "\n",
        "  model.add(layers.Conv2D(6, kernel_size=(5, 5), strides=(1, 1), activation='tanh', input_shape=(32,32,1), padding='valid'))\n",
        "\n",
        "  model.add(layers.AveragePooling2D(pool_size=(2, 2), strides=(1, 1), padding='valid'))\n",
        "\n",
        "  model.add(layers.Conv2D(16, kernel_size=(5, 5), strides=(1, 1), activation='tanh', padding='valid'))\n",
        "\n",
        "  model.add(layers.AveragePooling2D(pool_size=(2, 2), strides=(2, 2), padding='valid'))\n",
        "\n",
        "  model.add(layers.Conv2D(120, kernel_size=(5, 5), strides=(1, 1), activation='tanh', padding='valid'))\n",
        "\n",
        "  model.add(layers.Flatten())\n",
        "\n",
        "  model.add(layers.Dense(84, activation='tanh'))\n",
        "\n",
        "  model.add(layers.Dense(10, activation='softmax'))\n",
        "  return model\n",
        "\n",
        "model_mnist=return_model()\n",
        "model_mnist.compile(loss=keras.losses.categorical_crossentropy, optimizer='SGD', metrics=[\"accuracy\"]) \n",
        "model_mnist.summary()"
      ],
      "execution_count": 0,
      "outputs": [
        {
          "output_type": "stream",
          "text": [
            "Model: \"sequential_2\"\n",
            "_________________________________________________________________\n",
            "Layer (type)                 Output Shape              Param #   \n",
            "=================================================================\n",
            "conv2d_4 (Conv2D)            (None, 28, 28, 6)         156       \n",
            "_________________________________________________________________\n",
            "average_pooling2d_3 (Average (None, 27, 27, 6)         0         \n",
            "_________________________________________________________________\n",
            "conv2d_5 (Conv2D)            (None, 23, 23, 16)        2416      \n",
            "_________________________________________________________________\n",
            "average_pooling2d_4 (Average (None, 11, 11, 16)        0         \n",
            "_________________________________________________________________\n",
            "conv2d_6 (Conv2D)            (None, 7, 7, 120)         48120     \n",
            "_________________________________________________________________\n",
            "flatten_2 (Flatten)          (None, 5880)              0         \n",
            "_________________________________________________________________\n",
            "dense_3 (Dense)              (None, 84)                494004    \n",
            "_________________________________________________________________\n",
            "dense_4 (Dense)              (None, 10)                850       \n",
            "=================================================================\n",
            "Total params: 545,546\n",
            "Trainable params: 545,546\n",
            "Non-trainable params: 0\n",
            "_________________________________________________________________\n"
          ],
          "name": "stdout"
        }
      ]
    },
    {
      "cell_type": "code",
      "metadata": {
        "id": "UH0xNKKOzevM",
        "colab_type": "code",
        "outputId": "69386981-0017-49eb-deb4-805a69a5427e",
        "colab": {
          "base_uri": "https://localhost:8080/",
          "height": 1000
        }
      },
      "source": [
        " hist = model_mnist.fit(x=X_train,y=y_train, epochs=37, batch_size=128, validation_data=(X_test, y_test), verbose=1)"
      ],
      "execution_count": 0,
      "outputs": [
        {
          "output_type": "stream",
          "text": [
            "Train on 60000 samples, validate on 10000 samples\n",
            "Epoch 1/37\n",
            "60000/60000 [==============================] - 92s 2ms/step - loss: 0.6915 - accuracy: 0.8286 - val_loss: 0.3442 - val_accuracy: 0.9075\n",
            "Epoch 2/37\n",
            "60000/60000 [==============================] - 90s 2ms/step - loss: 0.3167 - accuracy: 0.9104 - val_loss: 0.2640 - val_accuracy: 0.9276\n",
            "Epoch 3/37\n",
            "60000/60000 [==============================] - 90s 2ms/step - loss: 0.2564 - accuracy: 0.9275 - val_loss: 0.2218 - val_accuracy: 0.9383\n",
            "Epoch 4/37\n",
            "60000/60000 [==============================] - 91s 2ms/step - loss: 0.2191 - accuracy: 0.9378 - val_loss: 0.1907 - val_accuracy: 0.9472\n",
            "Epoch 5/37\n",
            "60000/60000 [==============================] - 90s 2ms/step - loss: 0.1925 - accuracy: 0.9448 - val_loss: 0.1709 - val_accuracy: 0.9535\n",
            "Epoch 6/37\n",
            "60000/60000 [==============================] - 90s 2ms/step - loss: 0.1720 - accuracy: 0.9513 - val_loss: 0.1535 - val_accuracy: 0.9569\n",
            "Epoch 7/37\n",
            "60000/60000 [==============================] - 90s 1ms/step - loss: 0.1554 - accuracy: 0.9561 - val_loss: 0.1399 - val_accuracy: 0.9602\n",
            "Epoch 8/37\n",
            "60000/60000 [==============================] - 92s 2ms/step - loss: 0.1416 - accuracy: 0.9603 - val_loss: 0.1281 - val_accuracy: 0.9637\n",
            "Epoch 9/37\n",
            "60000/60000 [==============================] - 90s 2ms/step - loss: 0.1298 - accuracy: 0.9637 - val_loss: 0.1193 - val_accuracy: 0.9661\n",
            "Epoch 10/37\n",
            "60000/60000 [==============================] - 90s 2ms/step - loss: 0.1197 - accuracy: 0.9666 - val_loss: 0.1117 - val_accuracy: 0.9676\n",
            "Epoch 11/37\n",
            "60000/60000 [==============================] - 92s 2ms/step - loss: 0.1111 - accuracy: 0.9694 - val_loss: 0.1036 - val_accuracy: 0.9701\n",
            "Epoch 12/37\n",
            "60000/60000 [==============================] - 92s 2ms/step - loss: 0.1034 - accuracy: 0.9713 - val_loss: 0.0981 - val_accuracy: 0.9716\n",
            "Epoch 13/37\n",
            "60000/60000 [==============================] - 91s 2ms/step - loss: 0.0968 - accuracy: 0.9737 - val_loss: 0.0925 - val_accuracy: 0.9731\n",
            "Epoch 14/37\n",
            "60000/60000 [==============================] - 91s 2ms/step - loss: 0.0906 - accuracy: 0.9757 - val_loss: 0.0904 - val_accuracy: 0.9731\n",
            "Epoch 15/37\n",
            "60000/60000 [==============================] - 90s 2ms/step - loss: 0.0854 - accuracy: 0.9769 - val_loss: 0.0845 - val_accuracy: 0.9748\n",
            "Epoch 16/37\n",
            "60000/60000 [==============================] - 91s 2ms/step - loss: 0.0807 - accuracy: 0.9783 - val_loss: 0.0798 - val_accuracy: 0.9764\n",
            "Epoch 17/37\n",
            "60000/60000 [==============================] - 89s 1ms/step - loss: 0.0765 - accuracy: 0.9793 - val_loss: 0.0777 - val_accuracy: 0.9770\n",
            "Epoch 18/37\n",
            "60000/60000 [==============================] - 89s 1ms/step - loss: 0.0727 - accuracy: 0.9804 - val_loss: 0.0740 - val_accuracy: 0.9774\n",
            "Epoch 19/37\n",
            "60000/60000 [==============================] - 90s 2ms/step - loss: 0.0695 - accuracy: 0.9812 - val_loss: 0.0717 - val_accuracy: 0.9774\n",
            "Epoch 20/37\n",
            "60000/60000 [==============================] - 91s 2ms/step - loss: 0.0663 - accuracy: 0.9821 - val_loss: 0.0696 - val_accuracy: 0.9779\n",
            "Epoch 21/37\n",
            "60000/60000 [==============================] - 90s 1ms/step - loss: 0.0635 - accuracy: 0.9829 - val_loss: 0.0675 - val_accuracy: 0.9790\n",
            "Epoch 22/37\n",
            "60000/60000 [==============================] - 90s 2ms/step - loss: 0.0609 - accuracy: 0.9840 - val_loss: 0.0635 - val_accuracy: 0.9792\n",
            "Epoch 23/37\n",
            "60000/60000 [==============================] - 91s 2ms/step - loss: 0.0585 - accuracy: 0.9843 - val_loss: 0.0624 - val_accuracy: 0.9802\n",
            "Epoch 24/37\n",
            "60000/60000 [==============================] - 90s 2ms/step - loss: 0.0562 - accuracy: 0.9848 - val_loss: 0.0606 - val_accuracy: 0.9808\n",
            "Epoch 25/37\n",
            "60000/60000 [==============================] - 92s 2ms/step - loss: 0.0542 - accuracy: 0.9854 - val_loss: 0.0587 - val_accuracy: 0.9811\n",
            "Epoch 26/37\n",
            "60000/60000 [==============================] - 91s 2ms/step - loss: 0.0522 - accuracy: 0.9862 - val_loss: 0.0574 - val_accuracy: 0.9813\n",
            "Epoch 27/37\n",
            "60000/60000 [==============================] - 92s 2ms/step - loss: 0.0503 - accuracy: 0.9868 - val_loss: 0.0566 - val_accuracy: 0.9821\n",
            "Epoch 28/37\n",
            "60000/60000 [==============================] - 92s 2ms/step - loss: 0.0486 - accuracy: 0.9872 - val_loss: 0.0548 - val_accuracy: 0.9827\n",
            "Epoch 29/37\n",
            "60000/60000 [==============================] - 91s 2ms/step - loss: 0.0471 - accuracy: 0.9876 - val_loss: 0.0530 - val_accuracy: 0.9834\n",
            "Epoch 30/37\n",
            "60000/60000 [==============================] - 91s 2ms/step - loss: 0.0455 - accuracy: 0.9881 - val_loss: 0.0537 - val_accuracy: 0.9833\n",
            "Epoch 31/37\n",
            "60000/60000 [==============================] - 91s 2ms/step - loss: 0.0441 - accuracy: 0.9884 - val_loss: 0.0517 - val_accuracy: 0.9837\n",
            "Epoch 32/37\n",
            "60000/60000 [==============================] - 97s 2ms/step - loss: 0.0428 - accuracy: 0.9886 - val_loss: 0.0518 - val_accuracy: 0.9835\n",
            "Epoch 33/37\n",
            "60000/60000 [==============================] - 91s 2ms/step - loss: 0.0416 - accuracy: 0.9892 - val_loss: 0.0499 - val_accuracy: 0.9844\n",
            "Epoch 34/37\n",
            "60000/60000 [==============================] - 92s 2ms/step - loss: 0.0404 - accuracy: 0.9891 - val_loss: 0.0491 - val_accuracy: 0.9845\n",
            "Epoch 35/37\n",
            "60000/60000 [==============================] - 93s 2ms/step - loss: 0.0391 - accuracy: 0.9897 - val_loss: 0.0482 - val_accuracy: 0.9851\n",
            "Epoch 36/37\n",
            "60000/60000 [==============================] - 92s 2ms/step - loss: 0.0381 - accuracy: 0.9901 - val_loss: 0.0471 - val_accuracy: 0.9858\n",
            "Epoch 37/37\n",
            "60000/60000 [==============================] - 91s 2ms/step - loss: 0.0369 - accuracy: 0.9901 - val_loss: 0.0469 - val_accuracy: 0.9851\n"
          ],
          "name": "stdout"
        }
      ]
    },
    {
      "cell_type": "code",
      "metadata": {
        "id": "zIthXYppzruV",
        "colab_type": "code",
        "colab": {}
      },
      "source": [
        "def plot_loss(hist):\n",
        "\n",
        "  f, ax = plt.subplots()\n",
        "  ax.plot([None] + hist.history['loss'], 'o-')\n",
        "  ax.plot([None] + hist.history['val_loss'], 'x-')\n",
        "  # Plot legend and use the best location automatically: loc = 0.\n",
        "  ax.legend(['Train Loss', 'Validation Loss'], loc = 0)\n",
        "  ax.set_title('Training/Validation Loss per Epoch')\n",
        "  \n",
        "  ax.set_xlabel('Epoch')\n",
        "  ax.set_ylabel('Loss') \n"
      ],
      "execution_count": 0,
      "outputs": []
    },
    {
      "cell_type": "code",
      "metadata": {
        "id": "uoqOEujwZMFd",
        "colab_type": "code",
        "outputId": "efb697c8-3d86-428d-92ee-5ebc5d127fc0",
        "colab": {
          "base_uri": "https://localhost:8080/",
          "height": 573
        }
      },
      "source": [
        "def plot_acc(hist):\n",
        "  f, ax = plt.subplots()\n",
        "  ax.plot([None] + hist.history['accuracy'], 'o-')\n",
        "  ax.plot([None] + hist.history['val_accuracy'], 'x-')\n",
        "  \n",
        "  ax.legend(['Train acc', 'Validation acc'], loc = 0)\n",
        "  ax.set_title('Training/Validation acc per Epoch')\n",
        "  ax.set_xlabel('Epoch')\n",
        "  ax.set_ylabel('acc')\n",
        "\n",
        "plot_loss(hist)\n",
        "plot_acc(hist) "
      ],
      "execution_count": 0,
      "outputs": [
        {
          "output_type": "display_data",
          "data": {
            "image/png": "[encoded data removed]",
            "text/plain": [
              "<Figure size 432x288 with 1 Axes>"
            ]
          },
          "metadata": {
            "tags": [],
            "needs_background": "light"
          }
        },
        {
          "output_type": "display_data",
          "data": {
            "image/png": "[encoded data removed]",
            "text/plain": [
              "<Figure size 432x288 with 1 Axes>"
            ]
          },
          "metadata": {
            "tags": [],
            "needs_background": "light"
          }
        }
      ]
    },
    {
      "cell_type": "code",
      "metadata": {
        "id": "AAD55iXDZiC1",
        "colab_type": "code",
        "outputId": "30fc1973-9a17-4e3c-c32c-cec3fcd7f17e",
        "colab": {
          "base_uri": "https://localhost:8080/",
          "height": 52
        }
      },
      "source": [
        "score = model_mnist.evaluate(X_test, y_test, verbose=1)\n",
        "print(score)\n"
      ],
      "execution_count": 0,
      "outputs": [
        {
          "output_type": "stream",
          "text": [
            "10000/10000 [==============================] - 6s 631us/step\n",
            "[0.04689216663464904, 0.9850999712944031]\n"
          ],
          "name": "stdout"
        }
      ]
    },
    {
      "cell_type": "code",
      "metadata": {
        "id": "_0SwOE1L-fb9",
        "colab_type": "code",
        "outputId": "db36729a-2205-4a27-c7ec-01cbbdd1f03b",
        "colab": {
          "base_uri": "https://localhost:8080/",
          "height": 156
        }
      },
      "source": [
        "from keras.datasets import fashion_mnist\n",
        "(x_f_train,y_f_train),(x_f_test,y_f_test)= fashion_mnist.load_data()"
      ],
      "execution_count": 0,
      "outputs": [
        {
          "output_type": "stream",
          "text": [
            "Downloading data from http://fashion-mnist.s3-website.eu-central-1.amazonaws.com/train-labels-idx1-ubyte.gz\n",
            "32768/29515 [=================================] - 0s 3us/step\n",
            "Downloading data from http://fashion-mnist.s3-website.eu-central-1.amazonaws.com/train-images-idx3-ubyte.gz\n",
            "26427392/26421880 [==============================] - 2s 0us/step\n",
            "Downloading data from http://fashion-mnist.s3-website.eu-central-1.amazonaws.com/t10k-labels-idx1-ubyte.gz\n",
            "8192/5148 [===============================================] - 0s 0us/step\n",
            "Downloading data from http://fashion-mnist.s3-website.eu-central-1.amazonaws.com/t10k-images-idx3-ubyte.gz\n",
            "4423680/4422102 [==============================] - 1s 0us/step\n"
          ],
          "name": "stdout"
        }
      ]
    },
    {
      "cell_type": "code",
      "metadata": {
        "id": "lN67yJqC__Hm",
        "colab_type": "code",
        "outputId": "9adf78cb-3481-4a77-fde7-5c18432adf6b",
        "colab": {
          "base_uri": "https://localhost:8080/",
          "height": 52
        }
      },
      "source": [
        "x_f_train,x_f_test,y_f_train,y_f_test=data_manipulation(x_f_train,x_f_test,y_f_train,y_f_test)"
      ],
      "execution_count": 0,
      "outputs": [
        {
          "output_type": "stream",
          "text": [
            "(60000, 28, 28, 1)\n",
            "(10000, 28, 28, 1)\n"
          ],
          "name": "stdout"
        }
      ]
    },
    {
      "cell_type": "code",
      "metadata": {
        "id": "X5R36M73AO6c",
        "colab_type": "code",
        "outputId": "6edde9ac-0ee6-4749-f7bb-150f252ed834",
        "colab": {
          "base_uri": "https://localhost:8080/",
          "height": 52
        }
      },
      "source": [
        "X_f_train= np.pad(x_f_train, ((0,0),(2,2),(2,2),(0,0)),'constant')\n",
        "X_f_test= np.pad(x_f_test, ((0,0),(2,2),(2,2),(0,0)),'constant')\n",
        "print(X_f_train.shape)\n",
        "print(X_f_test.shape)"
      ],
      "execution_count": 0,
      "outputs": [
        {
          "output_type": "stream",
          "text": [
            "(60000, 32, 32, 1)\n",
            "(10000, 32, 32, 1)\n"
          ],
          "name": "stdout"
        }
      ]
    },
    {
      "cell_type": "code",
      "metadata": {
        "id": "3-3OFpMPAhXN",
        "colab_type": "code",
        "colab": {}
      },
      "source": [
        "model_fashion=model_mnist"
      ],
      "execution_count": 0,
      "outputs": []
    },
    {
      "cell_type": "code",
      "metadata": {
        "id": "DavLqLzXAnNq",
        "colab_type": "code",
        "colab": {}
      },
      "source": [
        "model_fashion.compile(loss=keras.losses.categorical_crossentropy, optimizer='SGD', metrics=[\"accuracy\"]) \n"
      ],
      "execution_count": 0,
      "outputs": []
    },
    {
      "cell_type": "code",
      "metadata": {
        "id": "mXIjCS-0ApST",
        "colab_type": "code",
        "outputId": "7c2e0398-c757-49be-9c8c-e7a4eddb150c",
        "colab": {
          "base_uri": "https://localhost:8080/",
          "height": 660
        }
      },
      "source": [
        " hist_fashion = model_fashion.fit(x=X_f_train,y=y_f_train, epochs=18, batch_size=128, validation_data=(X_f_test, y_f_test), verbose=1)"
      ],
      "execution_count": 0,
      "outputs": [
        {
          "output_type": "stream",
          "text": [
            "Train on 60000 samples, validate on 10000 samples\n",
            "Epoch 1/18\n",
            "60000/60000 [==============================] - 90s 1ms/step - loss: 0.7485 - accuracy: 0.7368 - val_loss: 0.6030 - val_accuracy: 0.7797\n",
            "Epoch 2/18\n",
            "60000/60000 [==============================] - 92s 2ms/step - loss: 0.5323 - accuracy: 0.8053 - val_loss: 0.5377 - val_accuracy: 0.8097\n",
            "Epoch 3/18\n",
            "60000/60000 [==============================] - 90s 2ms/step - loss: 0.4794 - accuracy: 0.8276 - val_loss: 0.4947 - val_accuracy: 0.8261\n",
            "Epoch 4/18\n",
            "60000/60000 [==============================] - 90s 1ms/step - loss: 0.4452 - accuracy: 0.8411 - val_loss: 0.4606 - val_accuracy: 0.8370\n",
            "Epoch 5/18\n",
            "60000/60000 [==============================] - 90s 2ms/step - loss: 0.4220 - accuracy: 0.8491 - val_loss: 0.4582 - val_accuracy: 0.8360\n",
            "Epoch 6/18\n",
            "60000/60000 [==============================] - 90s 2ms/step - loss: 0.4036 - accuracy: 0.8561 - val_loss: 0.4325 - val_accuracy: 0.8478\n",
            "Epoch 7/18\n",
            "60000/60000 [==============================] - 90s 2ms/step - loss: 0.3893 - accuracy: 0.8618 - val_loss: 0.4232 - val_accuracy: 0.8506\n",
            "Epoch 8/18\n",
            "60000/60000 [==============================] - 91s 2ms/step - loss: 0.3774 - accuracy: 0.8651 - val_loss: 0.4135 - val_accuracy: 0.8539\n",
            "Epoch 9/18\n",
            "60000/60000 [==============================] - 91s 2ms/step - loss: 0.3669 - accuracy: 0.8685 - val_loss: 0.4279 - val_accuracy: 0.8428\n",
            "Epoch 10/18\n",
            "60000/60000 [==============================] - 90s 2ms/step - loss: 0.3580 - accuracy: 0.8726 - val_loss: 0.3957 - val_accuracy: 0.8587\n",
            "Epoch 11/18\n",
            "60000/60000 [==============================] - 91s 2ms/step - loss: 0.3495 - accuracy: 0.8734 - val_loss: 0.3896 - val_accuracy: 0.8624\n",
            "Epoch 12/18\n",
            "60000/60000 [==============================] - 92s 2ms/step - loss: 0.3423 - accuracy: 0.8769 - val_loss: 0.3798 - val_accuracy: 0.8673\n",
            "Epoch 13/18\n",
            "60000/60000 [==============================] - 90s 2ms/step - loss: 0.3358 - accuracy: 0.8785 - val_loss: 0.3862 - val_accuracy: 0.8604\n",
            "Epoch 14/18\n",
            "60000/60000 [==============================] - 91s 2ms/step - loss: 0.3295 - accuracy: 0.8808 - val_loss: 0.3757 - val_accuracy: 0.8666\n",
            "Epoch 15/18\n",
            "60000/60000 [==============================] - 91s 2ms/step - loss: 0.3240 - accuracy: 0.8839 - val_loss: 0.3709 - val_accuracy: 0.8690\n",
            "Epoch 16/18\n",
            "60000/60000 [==============================] - 90s 2ms/step - loss: 0.3183 - accuracy: 0.8846 - val_loss: 0.3605 - val_accuracy: 0.8716\n",
            "Epoch 17/18\n",
            "60000/60000 [==============================] - 91s 2ms/step - loss: 0.3130 - accuracy: 0.8869 - val_loss: 0.3560 - val_accuracy: 0.8724\n",
            "Epoch 18/18\n",
            "60000/60000 [==============================] - 92s 2ms/step - loss: 0.3089 - accuracy: 0.8879 - val_loss: 0.3658 - val_accuracy: 0.8685\n"
          ],
          "name": "stdout"
        }
      ]
    },
    {
      "cell_type": "code",
      "metadata": {
        "id": "QYeko_AOA-m1",
        "colab_type": "code",
        "outputId": "6cf119af-77fa-487d-bd6d-f4feffdcc919",
        "colab": {
          "base_uri": "https://localhost:8080/",
          "height": 573
        }
      },
      "source": [
        "plot_loss(hist_fashion)\n",
        "plot_acc(hist_fashion)"
      ],
      "execution_count": 0,
      "outputs": [
        {
          "output_type": "display_data",
          "data": {
            "image/png": "[encoded data removed]",
            "text/plain": [
              "<Figure size 432x288 with 1 Axes>"
            ]
          },
          "metadata": {
            "tags": [],
            "needs_background": "light"
          }
        },
        {
          "output_type": "display_data",
          "data": {
            "image/png": "[encoded data removed]",
            "text/plain": [
              "<Figure size 432x288 with 1 Axes>"
            ]
          },
          "metadata": {
            "tags": [],
            "needs_background": "light"
          }
        }
      ]
    },
    {
      "cell_type": "code",
      "metadata": {
        "id": "d5x0svYNHBov",
        "colab_type": "code",
        "outputId": "a8b9cdf8-de94-4860-a158-eb183466efb6",
        "colab": {
          "base_uri": "https://localhost:8080/",
          "height": 52
        }
      },
      "source": [
        "score = model_fashion.evaluate(X_f_test,y_f_test,verbose=1)\n",
        "print(score)\n"
      ],
      "execution_count": 0,
      "outputs": [
        {
          "output_type": "stream",
          "text": [
            "10000/10000 [==============================] - 6s 616us/step\n",
            "[0.3657845240592957, 0.8684999942779541]\n"
          ],
          "name": "stdout"
        }
      ]
    },
    {
      "cell_type": "code",
      "metadata": {
        "id": "AVOj-3pkOB-R",
        "colab_type": "code",
        "colab": {}
      },
      "source": [
        ""
      ],
      "execution_count": 0,
      "outputs": []
    }
  ]
}